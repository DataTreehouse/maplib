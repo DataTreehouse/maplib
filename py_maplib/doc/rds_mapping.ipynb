{
 "cells": [
  {
   "cell_type": "code",
   "execution_count": 67,
   "id": "ef4d6e71",
   "metadata": {},
   "outputs": [],
   "source": [
    "from maplib import Mapping\n",
    "import polars as pl\n",
    "from math import floor"
   ]
  },
  {
   "cell_type": "markdown",
   "id": "68737458",
   "metadata": {},
   "source": [
    "# Templates"
   ]
  },
  {
   "cell_type": "code",
   "execution_count": 68,
   "id": "3b0334f1",
   "metadata": {},
   "outputs": [],
   "source": [
    "instance_mapping = \"\"\"\n",
    "@prefix tpl:<https://github.com/magbak/chrontext/templates#>.\n",
    "@prefix rds:<https://github.com/magbak/chrontext/rds_power#>.\n",
    "@prefix ct:<https://github.com/magbak/chrontext#>.\n",
    "@prefix rdf:<http://www.w3.org/1999/02/22-rdf-syntax-ns#>.\n",
    "@prefix rdfs:<http://www.w3.org/2000/01/rdf-schema#>.\n",
    "\n",
    "tpl:Site [?SiteIRI, ?SiteName] :: {\n",
    "    ottr:Triple(?SiteIRI, rdfs:label, ?SiteName),\n",
    "    ottr:Triple(?SiteIRI, rdf:type, rds:Site)\n",
    "    } .\n",
    "    \n",
    "tpl:FunctionalAspect [?SourceIRI, ?TargetIRI, ?TargetAspectNodeIRI, ?Label] :: {\n",
    "    ottr:Triple(?SourceIRI, rds:hasFunctionalAspect, ?TargetAspectNodeIRI),\n",
    "    ottr:Triple(?TargetIRI, rds:hasFunctionalAspectNode, ?TargetAspectNodeIRI),\n",
    "    ottr:Triple(?TargetAspectNodeIRI, rdfs:label, ?Label)\n",
    "} .\n",
    "\n",
    "tpl:RDSSystem [?SystemIRI, xsd:anyURI ?RDSType, ?Label] :: {\n",
    "    ottr:Triple(?SystemIRI, rdf:type, ?RDSType),\n",
    "    ottr:Triple(?SystemIRI, rdfs:label, ?Label)\n",
    "} .\n",
    "\n",
    "tpl:StaticProperty [?ParentIRI, ?ValueNodeIRI, ?Label, ?Value] :: {\n",
    "    ottr:Triple(?ParentIRI, ct:hasStaticProperty, ?ValueNodeIRI),\n",
    "    ottr:Triple(?ValueNodeIRI, rdfs:label, ?Label),\n",
    "    ottr:Triple(?ValueNodeIRI, ct:hasStaticValue, ?Value)\n",
    "} .\n",
    "\n",
    "tpl:Timeseries [?ParentIRI, ?TimeseriesNodeIRI, ?Label, ?ExternalId, xsd:anyURI ?Datatype] :: {\n",
    "    ottr:Triple(?ParentIRI, ct:hasTimeseries, ?TimeseriesNodeIRI),\n",
    "    ottr:Triple(?TimeseriesNodeIRI, ct:hasExternalId, ?ExternalId),\n",
    "    ottr:Triple(?TimeseriesNodeIRI, ct:hasDatatype, ?Datatype),\n",
    "    ottr:Triple(?TimeseriesNodeIRI, rdfs:label, ?Label)\n",
    "} .\n",
    "\"\"\""
   ]
  },
  {
   "cell_type": "code",
   "execution_count": 69,
   "id": "b73a3d9d",
   "metadata": {},
   "outputs": [],
   "source": [
    "n = 400"
   ]
  },
  {
   "cell_type": "markdown",
   "id": "d27c41fe",
   "metadata": {},
   "source": [
    "# Mapping object"
   ]
  },
  {
   "cell_type": "code",
   "execution_count": 70,
   "id": "d34958bd",
   "metadata": {},
   "outputs": [],
   "source": [
    "mapping = Mapping([instance_mapping])"
   ]
  },
  {
   "cell_type": "code",
   "execution_count": 71,
   "id": "baf2b81f",
   "metadata": {},
   "outputs": [],
   "source": [
    "# Used as a prefix\n",
    "wpex = \"https://github.com/magbak/chrontext/windpower_example#\"\n",
    "rds = \"https://github.com/magbak/chrontext/rds_power#\""
   ]
  },
  {
   "cell_type": "code",
   "execution_count": 72,
   "id": "316f606a",
   "metadata": {},
   "outputs": [],
   "source": [
    "site_iris = [wpex + \"Site\" + str(i) for i in range(4)]\n",
    "sites = pl.DataFrame({\"SiteName\": [\"Wind Mountain\", \"Gale Valley\", \"Gusty Plains\", \"Breezy Field\"],\n",
    "                      \"SiteIRI\": site_iris})\n",
    "mapping.expand(\"tpl:Site\", sites)"
   ]
  },
  {
   "cell_type": "markdown",
   "id": "db6a5460",
   "metadata": {},
   "source": [
    "# Wind turbines"
   ]
  },
  {
   "cell_type": "code",
   "execution_count": 73,
   "id": "4591733d",
   "metadata": {},
   "outputs": [],
   "source": [
    "wind_turbine_iris = [wpex + \"WindTurbine\" + str(i) for i in range (1, n+1)]\n",
    "wind_turbines = pl.DataFrame(\n",
    "    {\n",
    "    \"RDSType\": [rds + \"A\"]*n,\n",
    "    \"Label\": [\"Wind turbine \" + str(i) for i in range(1,n+1)],\n",
    "    \"SystemIRI\": wind_turbine_iris\n",
    "    })\n",
    "\n",
    "mapping.expand(\"tpl:RDSSystem\", wind_turbines)"
   ]
  },
  {
   "cell_type": "code",
   "execution_count": 74,
   "id": "a6f2a2a0",
   "metadata": {},
   "outputs": [],
   "source": [
    "operating_external_ids = [\"oper\" + str(i) for i in range(1,n+1)]\n",
    "operating = pl.DataFrame ({\n",
    "    \"Label\": [\"Operating\"]*n,\n",
    "    \"ParentIRI\" :wind_turbine_iris,\n",
    "    \"ExternalId\": operating_external_ids,\n",
    "    \"Datatype\": [\"http://www.w3.org/2001/XMLSchema#boolean\"]*n\n",
    "})\n",
    "operating = operating.with_column(pl.Series(\"TimeseriesNodeIRI\", [wpex]*operating.height) + operating[\"ExternalId\"])\n",
    "mapping.expand(\"tpl:Timeseries\", operating)"
   ]
  },
  {
   "cell_type": "code",
   "execution_count": 75,
   "id": "26b2ed52",
   "metadata": {},
   "outputs": [],
   "source": [
    "maximum_power_values = [[5_000_000,10_000_000,15_000_000][i%3] for i in range(1,n+1)]\n",
    "maximum_power_node_iri = [wpex + \"WindTurbineMaximumPower\" + str(i) for i in range(1, n+1)]\n",
    "maximum_power = pl.DataFrame ({\n",
    "    \"Label\": [\"MaximumPower\"] * n,\n",
    "    \"Value\": maximum_power_values,\n",
    "    \"ParentIRI\": wind_turbine_iris,\n",
    "    \"ValueNodeIRI\": maximum_power_node_iri\n",
    "})\n",
    "mapping.expand(\"tpl:StaticProperty\", \n",
    "               df=maximum_power)"
   ]
  },
  {
   "cell_type": "code",
   "execution_count": 76,
   "outputs": [],
   "source": [
    "def add_aspect_labeling_by_source(df:pl.DataFrame, prefix:str) -> pl.DataFrame:\n",
    "   label_df = df.groupby(\"SourceIRI\", maintain_order=True).apply(lambda x:pl.DataFrame({\"Label\":[prefix + str(i) for i in range(1,x.height+1)]}))\n",
    "   df = df.with_column(label_df[\"Label\"])\n",
    "   return df"
   ],
   "metadata": {
    "collapsed": false
   },
   "id": "c16d13d47b415bda"
  },
  {
   "cell_type": "code",
   "execution_count": 77,
   "id": "7d9f2f67",
   "metadata": {},
   "outputs": [],
   "source": [
    "target_aspect_node_iri = [wpex + \"WindTurbineFunctionalAspect\" + str(i) for i in range(1, n+1)]\n",
    "\n",
    "site_has_wind_turbine = pl.DataFrame({\n",
    "    \"SourceIRI\":[site_iris[floor(i/(n/sites.height))] for i in range(0,n)],\n",
    "    \"TargetIRI\":wind_turbine_iris,\n",
    "    \"TargetAspectNodeIRI\": target_aspect_node_iri\n",
    "})\n",
    "site_has_wind_turbine = add_aspect_labeling_by_source(site_has_wind_turbine, \"A\")\n",
    "mapping.expand(\"tpl:FunctionalAspect\", site_has_wind_turbine)"
   ]
  },
  {
   "cell_type": "markdown",
   "id": "66b7e732",
   "metadata": {},
   "source": [
    "# Generator systems"
   ]
  },
  {
   "cell_type": "code",
   "execution_count": 78,
   "id": "fd84a006",
   "metadata": {},
   "outputs": [],
   "source": [
    "generator_system_iris = [wpex + \"GeneratorSystem\" + str(i) for i in range(1,n+1)]\n",
    "generator_systems = pl.DataFrame(\n",
    "    {\n",
    "    \"SystemIRI\":generator_system_iris,\n",
    "    \"Label\": [\"Generator system\"]*n,\n",
    "    \"RDSType\": [rds + \"RA\"]*n\n",
    "    })\n",
    "mapping.expand(\"tpl:RDSSystem\", generator_systems)"
   ]
  },
  {
   "cell_type": "code",
   "execution_count": 79,
   "id": "bf5dabda",
   "metadata": {},
   "outputs": [],
   "source": [
    "wind_turbine_has_generator_system = pl.DataFrame ({\n",
    "    \"SourceIRI\": wind_turbine_iris,\n",
    "    \"TargetIRI\": generator_system_iris,\n",
    "    \"TargetAspectNodeIRI\": [wpex + \"GeneratorSystemFunctionalAspect\" + str(i) for i in range(1, n+1)]\n",
    "})\n",
    "wind_turbine_has_generator_system = add_aspect_labeling_by_source(wind_turbine_has_generator_system, \"RA\")\n",
    "mapping.expand(\"tpl:FunctionalAspect\", wind_turbine_has_generator_system)"
   ]
  },
  {
   "cell_type": "markdown",
   "id": "9f2f7d07",
   "metadata": {},
   "source": [
    "# Generator"
   ]
  },
  {
   "cell_type": "code",
   "execution_count": 80,
   "id": "7e91c3a2",
   "metadata": {},
   "outputs": [],
   "source": [
    "generator_iris = [wpex + \"Generator\" + str(i) for i in range(1,n+1)]\n",
    "generators = pl.DataFrame(\n",
    "    {\n",
    "    \"SystemIRI\": generator_iris,\n",
    "    \"RDSType\": [rds + \"GAA\"]*n,\n",
    "    \"Label\" : [\"Generator\"]*n\n",
    "    })\n",
    "mapping.expand(\"tpl:RDSSystem\", generators)"
   ]
  },
  {
   "cell_type": "code",
   "execution_count": 81,
   "id": "6756d053",
   "metadata": {},
   "outputs": [],
   "source": [
    "energy_production_external_ids = [\"ep\" + str(i) for i in range(1,n+1)]\n",
    "energy_production = pl.DataFrame ({\n",
    "    \"Label\": [\"Production\"]*n,\n",
    "    \"ParentIRI\" :generator_iris,\n",
    "    \"ExternalId\": energy_production_external_ids,\n",
    "    \"Datatype\": [\"http://www.w3.org/2001/XMLSchema#double\"]*n\n",
    "})\n",
    "energy_production = energy_production.with_column(pl.Series(\"TimeseriesNodeIRI\", [wpex]*energy_production.height)  + energy_production[\"ExternalId\"])\n",
    "mapping.expand(\"tpl:Timeseries\", energy_production)"
   ]
  },
  {
   "cell_type": "code",
   "execution_count": 82,
   "id": "ea02ae01",
   "metadata": {},
   "outputs": [],
   "source": [
    "generator_system_has_generator = pl.DataFrame ({\n",
    "    \"SourceIRI\": generator_system_iris,\n",
    "    \"TargetIRI\": generator_iris,\n",
    "    \"TargetAspectNodeIRI\": [wpex + \"GeneratorFunctionalAspect\" + str(i) for i in range(1, n+1)]\n",
    "})\n",
    "generator_system_has_generator = add_aspect_labeling_by_source(generator_system_has_generator, \"GAA\")\n",
    "\n",
    "mapping.expand(\"tpl:FunctionalAspect\", generator_system_has_generator)"
   ]
  },
  {
   "cell_type": "markdown",
   "id": "8268cccb",
   "metadata": {},
   "source": [
    "# Weather measuring system"
   ]
  },
  {
   "cell_type": "code",
   "execution_count": 83,
   "id": "71443505",
   "metadata": {},
   "outputs": [],
   "source": [
    "wms_iris = [wpex + \"WeatherMeasuringSystem\" + str(i) for i in range(1,n+1)]\n",
    "wms = pl.DataFrame(\n",
    "    {\n",
    "    \"SystemIRI\":wms_iris,\n",
    "    \"RDSType\": [rds + \"LE\"]*n,\n",
    "    \"Label\": [\"Weather Measuring System\"]*n\n",
    "    })\n",
    "mapping.expand(\"tpl:RDSSystem\", wms)"
   ]
  },
  {
   "cell_type": "code",
   "execution_count": 84,
   "id": "1506cec0",
   "metadata": {},
   "outputs": [],
   "source": [
    "wind_speed_external_ids = [\"wsp\" + str(i) for i in range(1,n+1)]\n",
    "wind_speed = pl.DataFrame ({\n",
    "    \"Label\": [\"Windspeed\"]*n,\n",
    "    \"ParentIRI\" :wms_iris,\n",
    "    \"ExternalId\": wind_speed_external_ids,\n",
    "    \"Datatype\": [\"http://www.w3.org/2001/XMLSchema#double\"]*n\n",
    "})\n",
    "wind_speed = wind_speed.with_column(pl.Series(\"TimeseriesNodeIRI\", [wpex]*wind_speed.height)  + wind_speed[\"ExternalId\"])\n",
    "\n",
    "mapping.expand(\"tpl:Timeseries\", wind_speed)"
   ]
  },
  {
   "cell_type": "code",
   "execution_count": 85,
   "id": "7af82e98",
   "metadata": {},
   "outputs": [],
   "source": [
    "wind_direction_external_ids = [\"wdir\" + str(i) for i in range(1,n+1)]\n",
    "wind_direction = pl.DataFrame ({\n",
    "    \"Label\": [\"WindDirection\"]*n,\n",
    "    \"ParentIRI\" :wms_iris,\n",
    "    \"ExternalId\": wind_direction_external_ids,\n",
    "    \"Datatype\": [\"http://www.w3.org/2001/XMLSchema#double\"]*n\n",
    "})\n",
    "wind_direction = wind_direction.with_column(pl.Series(\"TimeseriesNodeIRI\", [wpex]*wind_direction.height)  + wind_direction[\"ExternalId\"])\n",
    "\n",
    "mapping.expand(\"tpl:Timeseries\", wind_direction)"
   ]
  },
  {
   "cell_type": "code",
   "execution_count": 86,
   "id": "36e6cffe",
   "metadata": {},
   "outputs": [],
   "source": [
    "wind_turbine_has_wms = pl.DataFrame ({\n",
    "    \"SourceIRI\": wind_turbine_iris,\n",
    "    \"TargetIRI\": wms_iris,\n",
    "    \"TargetAspectNodeIRI\": [wpex + \"WMSFunctionalAspect\" + str(i) for i in range(1, n+1)]\n",
    "})\n",
    "wind_turbine_has_wms = add_aspect_labeling_by_source(wind_turbine_has_wms, \"LE\")\n",
    "\n",
    "mapping.expand(\"tpl:FunctionalAspect\", \n",
    "               df=wind_turbine_has_wms)"
   ]
  },
  {
   "cell_type": "code",
   "execution_count": 87,
   "id": "3c056990",
   "metadata": {},
   "outputs": [],
   "source": [
    "mapping.write_ntriples(\"windpower.nt\")"
   ]
  },
  {
   "cell_type": "code",
   "execution_count": 88,
   "id": "7a17a437",
   "metadata": {},
   "outputs": [],
   "source": [
    "df_external_ids = pl.DataFrame({\n",
    "    \"MaximumPowerValue\": maximum_power_values,\n",
    "    \"Operating\":operating_external_ids,\n",
    "    \"EnergyProduction\":energy_production_external_ids,\n",
    "    \"WindSpeed\":wind_speed_external_ids,\n",
    "    \"WindDirection\":wind_direction_external_ids\n",
    "})\n",
    "df_external_ids.write_csv(\"external_ids.csv\")"
   ]
  },
  {
   "cell_type": "code",
   "execution_count": 88,
   "id": "a471cccf",
   "metadata": {},
   "outputs": [],
   "source": []
  }
 ],
 "metadata": {
  "kernelspec": {
   "display_name": "Python 3 (ipykernel)",
   "language": "python",
   "name": "python3"
  },
  "language_info": {
   "codemirror_mode": {
    "name": "ipython",
    "version": 3
   },
   "file_extension": ".py",
   "mimetype": "text/x-python",
   "name": "python",
   "nbconvert_exporter": "python",
   "pygments_lexer": "ipython3",
   "version": "3.10.4"
  }
 },
 "nbformat": 4,
 "nbformat_minor": 5
}
