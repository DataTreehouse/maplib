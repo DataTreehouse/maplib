{
 "cells": [
  {
   "cell_type": "markdown",
   "id": "536afcd0-2411-4d11-b068-5cea1486152e",
   "metadata": {},
   "source": [
    "# Mapping done three ways"
   ]
  },
  {
   "cell_type": "markdown",
   "id": "93bb1f85-fa62-4559-ae8e-6a5e5bf6ec82",
   "metadata": {},
   "source": [
    "The notebook below shows how mapping can be done in three ways with maplib:\n",
    "- OTTR templates using the stOTTR syntax\n",
    "- Programmatic OTTR Templates\n",
    "- The PVALUES construction"
   ]
  },
  {
   "cell_type": "markdown",
   "id": "fd6a9fce-e715-4976-9ee9-3186cb6c03c1",
   "metadata": {},
   "source": [
    "First, some common dependencies and a bit of formatting config. "
   ]
  },
  {
   "cell_type": "code",
   "execution_count": 1,
   "id": "4d29e14d-0d40-4cc1-a119-3516965d1fde",
   "metadata": {},
   "outputs": [],
   "source": [
    "from maplib import Mapping\n",
    "import polars as pl\n",
    "pl.Config.set_fmt_str_lengths(100).set_tbl_rows(5)\n",
    "None"
   ]
  },
  {
   "cell_type": "code",
   "execution_count": 2,
   "id": "63d06f44-2727-4ac0-9040-e642df60a163",
   "metadata": {},
   "outputs": [],
   "source": [
    "MY_PREFIX = \"https://data-treehouse.com/examples#\""
   ]
  },
  {
   "cell_type": "markdown",
   "id": "2873bd50-2a6e-4fcd-aeaf-0f8042dadca5",
   "metadata": {},
   "source": [
    "Common to all approaches is reading and preprocessing the IRIS dataset."
   ]
  },
  {
   "cell_type": "code",
   "execution_count": 3,
   "id": "540626c7-628c-4db7-a172-f3b812ce9c3d",
   "metadata": {},
   "outputs": [
    {
     "data": {
      "text/html": [
       "<div><style>\n",
       ".dataframe > thead > tr,\n",
       ".dataframe > tbody > tr {\n",
       "  text-align: right;\n",
       "  white-space: pre-wrap;\n",
       "}\n",
       "</style>\n",
       "<small>shape: (150, 5)</small><table border=\"1\" class=\"dataframe\"><thead><tr><th>sepal_length</th><th>sepal_width</th><th>petal_length</th><th>petal_width</th><th>variety</th></tr><tr><td>f64</td><td>f64</td><td>f64</td><td>f64</td><td>str</td></tr></thead><tbody><tr><td>5.1</td><td>3.5</td><td>1.4</td><td>0.2</td><td>&quot;Setosa&quot;</td></tr><tr><td>4.9</td><td>3.0</td><td>1.4</td><td>0.2</td><td>&quot;Setosa&quot;</td></tr><tr><td>4.7</td><td>3.2</td><td>1.3</td><td>0.2</td><td>&quot;Setosa&quot;</td></tr><tr><td>&hellip;</td><td>&hellip;</td><td>&hellip;</td><td>&hellip;</td><td>&hellip;</td></tr><tr><td>6.2</td><td>3.4</td><td>5.4</td><td>2.3</td><td>&quot;Virginica&quot;</td></tr><tr><td>5.9</td><td>3.0</td><td>5.1</td><td>1.8</td><td>&quot;Virginica&quot;</td></tr></tbody></table></div>"
      ],
      "text/plain": [
       "shape: (150, 5)\n",
       "┌──────────────┬─────────────┬──────────────┬─────────────┬───────────┐\n",
       "│ sepal_length ┆ sepal_width ┆ petal_length ┆ petal_width ┆ variety   │\n",
       "│ ---          ┆ ---         ┆ ---          ┆ ---         ┆ ---       │\n",
       "│ f64          ┆ f64         ┆ f64          ┆ f64         ┆ str       │\n",
       "╞══════════════╪═════════════╪══════════════╪═════════════╪═══════════╡\n",
       "│ 5.1          ┆ 3.5         ┆ 1.4          ┆ 0.2         ┆ Setosa    │\n",
       "│ 4.9          ┆ 3.0         ┆ 1.4          ┆ 0.2         ┆ Setosa    │\n",
       "│ 4.7          ┆ 3.2         ┆ 1.3          ┆ 0.2         ┆ Setosa    │\n",
       "│ …            ┆ …           ┆ …            ┆ …           ┆ …         │\n",
       "│ 6.2          ┆ 3.4         ┆ 5.4          ┆ 2.3         ┆ Virginica │\n",
       "│ 5.9          ┆ 3.0         ┆ 5.1          ┆ 1.8         ┆ Virginica │\n",
       "└──────────────┴─────────────┴──────────────┴─────────────┴───────────┘"
      ]
     },
     "execution_count": 3,
     "metadata": {},
     "output_type": "execute_result"
    }
   ],
   "source": [
    "df = pl.read_csv(\"iris.csv\")\n",
    "df"
   ]
  },
  {
   "cell_type": "markdown",
   "id": "dd8805b7-d2be-4c5b-8564-d441a80ff157",
   "metadata": {},
   "source": [
    "Next, we create some IRIs"
   ]
  },
  {
   "cell_type": "code",
   "execution_count": 4,
   "id": "bc4eb9c8-6397-4b4a-a03c-3625675bbedd",
   "metadata": {},
   "outputs": [
    {
     "data": {
      "text/html": [
       "<div><style>\n",
       ".dataframe > thead > tr,\n",
       ".dataframe > tbody > tr {\n",
       "  text-align: right;\n",
       "  white-space: pre-wrap;\n",
       "}\n",
       "</style>\n",
       "<small>shape: (150, 7)</small><table border=\"1\" class=\"dataframe\"><thead><tr><th>sepal_length</th><th>sepal_width</th><th>petal_length</th><th>petal_width</th><th>variety</th><th>id</th><th>type</th></tr><tr><td>f64</td><td>f64</td><td>f64</td><td>f64</td><td>str</td><td>str</td><td>str</td></tr></thead><tbody><tr><td>5.1</td><td>3.5</td><td>1.4</td><td>0.2</td><td>&quot;Setosa&quot;</td><td>&quot;https://data-treehouse.com/examples#Setosa1&quot;</td><td>&quot;https://data-treehouse.com/examples#Setosa&quot;</td></tr><tr><td>4.9</td><td>3.0</td><td>1.4</td><td>0.2</td><td>&quot;Setosa&quot;</td><td>&quot;https://data-treehouse.com/examples#Setosa2&quot;</td><td>&quot;https://data-treehouse.com/examples#Setosa&quot;</td></tr><tr><td>4.7</td><td>3.2</td><td>1.3</td><td>0.2</td><td>&quot;Setosa&quot;</td><td>&quot;https://data-treehouse.com/examples#Setosa3&quot;</td><td>&quot;https://data-treehouse.com/examples#Setosa&quot;</td></tr><tr><td>&hellip;</td><td>&hellip;</td><td>&hellip;</td><td>&hellip;</td><td>&hellip;</td><td>&hellip;</td><td>&hellip;</td></tr><tr><td>6.2</td><td>3.4</td><td>5.4</td><td>2.3</td><td>&quot;Virginica&quot;</td><td>&quot;https://data-treehouse.com/examples#Virginica49&quot;</td><td>&quot;https://data-treehouse.com/examples#Virginica&quot;</td></tr><tr><td>5.9</td><td>3.0</td><td>5.1</td><td>1.8</td><td>&quot;Virginica&quot;</td><td>&quot;https://data-treehouse.com/examples#Virginica50&quot;</td><td>&quot;https://data-treehouse.com/examples#Virginica&quot;</td></tr></tbody></table></div>"
      ],
      "text/plain": [
       "shape: (150, 7)\n",
       "┌──────────────┬─────────────┬──────────────┬─────────────┬───────────┬──────────────┬─────────────┐\n",
       "│ sepal_length ┆ sepal_width ┆ petal_length ┆ petal_width ┆ variety   ┆ id           ┆ type        │\n",
       "│ ---          ┆ ---         ┆ ---          ┆ ---         ┆ ---       ┆ ---          ┆ ---         │\n",
       "│ f64          ┆ f64         ┆ f64          ┆ f64         ┆ str       ┆ str          ┆ str         │\n",
       "╞══════════════╪═════════════╪══════════════╪═════════════╪═══════════╪══════════════╪═════════════╡\n",
       "│ 5.1          ┆ 3.5         ┆ 1.4          ┆ 0.2         ┆ Setosa    ┆ https://data ┆ https://dat │\n",
       "│              ┆             ┆              ┆             ┆           ┆ -treehouse.c ┆ a-treehouse │\n",
       "│              ┆             ┆              ┆             ┆           ┆ om/examples# ┆ .com/exampl │\n",
       "│              ┆             ┆              ┆             ┆           ┆ Setosa1      ┆ es#Setosa   │\n",
       "│ 4.9          ┆ 3.0         ┆ 1.4          ┆ 0.2         ┆ Setosa    ┆ https://data ┆ https://dat │\n",
       "│              ┆             ┆              ┆             ┆           ┆ -treehouse.c ┆ a-treehouse │\n",
       "│              ┆             ┆              ┆             ┆           ┆ om/examples# ┆ .com/exampl │\n",
       "│              ┆             ┆              ┆             ┆           ┆ Setosa2      ┆ es#Setosa   │\n",
       "│ 4.7          ┆ 3.2         ┆ 1.3          ┆ 0.2         ┆ Setosa    ┆ https://data ┆ https://dat │\n",
       "│              ┆             ┆              ┆             ┆           ┆ -treehouse.c ┆ a-treehouse │\n",
       "│              ┆             ┆              ┆             ┆           ┆ om/examples# ┆ .com/exampl │\n",
       "│              ┆             ┆              ┆             ┆           ┆ Setosa3      ┆ es#Setosa   │\n",
       "│ …            ┆ …           ┆ …            ┆ …           ┆ …         ┆ …            ┆ …           │\n",
       "│ 6.2          ┆ 3.4         ┆ 5.4          ┆ 2.3         ┆ Virginica ┆ https://data ┆ https://dat │\n",
       "│              ┆             ┆              ┆             ┆           ┆ -treehouse.c ┆ a-treehouse │\n",
       "│              ┆             ┆              ┆             ┆           ┆ om/examples# ┆ .com/exampl │\n",
       "│              ┆             ┆              ┆             ┆           ┆ Virginica49  ┆ es#Virginic │\n",
       "│              ┆             ┆              ┆             ┆           ┆              ┆ a           │\n",
       "│ 5.9          ┆ 3.0         ┆ 5.1          ┆ 1.8         ┆ Virginica ┆ https://data ┆ https://dat │\n",
       "│              ┆             ┆              ┆             ┆           ┆ -treehouse.c ┆ a-treehouse │\n",
       "│              ┆             ┆              ┆             ┆           ┆ om/examples# ┆ .com/exampl │\n",
       "│              ┆             ┆              ┆             ┆           ┆ Virginica50  ┆ es#Virginic │\n",
       "│              ┆             ┆              ┆             ┆           ┆              ┆ a           │\n",
       "└──────────────┴─────────────┴──────────────┴─────────────┴───────────┴──────────────┴─────────────┘"
      ]
     },
     "execution_count": 4,
     "metadata": {},
     "output_type": "execute_result"
    }
   ],
   "source": [
    "df = df.with_columns(\n",
    "    # This makes an IRI that combines the variety, and the cumulative count of that variety\n",
    "    (pl.lit(MY_PREFIX) + pl.col(\"variety\") + pl.cum_count(\"variety\").over(\"variety\").cast(pl.String)).alias(\"id\"),\n",
    "    # This makes an IRI for the types \n",
    "    (pl.lit(MY_PREFIX) + pl.col(\"variety\")).alias(\"type\")\n",
    ")\n",
    "df"
   ]
  },
  {
   "cell_type": "markdown",
   "id": "3fcccefa-a646-4454-a8ba-d3870cbf8235",
   "metadata": {},
   "source": [
    "Now, we create a DataFrame containing instance information.\n",
    "We can drop \"variety\", since that is a property of the types. "
   ]
  },
  {
   "cell_type": "code",
   "execution_count": 5,
   "id": "fd43679c-2e1d-4f30-b47f-0ef271d4c5dc",
   "metadata": {},
   "outputs": [
    {
     "data": {
      "text/html": [
       "<div><style>\n",
       ".dataframe > thead > tr,\n",
       ".dataframe > tbody > tr {\n",
       "  text-align: right;\n",
       "  white-space: pre-wrap;\n",
       "}\n",
       "</style>\n",
       "<small>shape: (150, 6)</small><table border=\"1\" class=\"dataframe\"><thead><tr><th>sepal_length</th><th>sepal_width</th><th>petal_length</th><th>petal_width</th><th>id</th><th>type</th></tr><tr><td>f64</td><td>f64</td><td>f64</td><td>f64</td><td>str</td><td>str</td></tr></thead><tbody><tr><td>5.1</td><td>3.5</td><td>1.4</td><td>0.2</td><td>&quot;https://data-treehouse.com/examples#Setosa1&quot;</td><td>&quot;https://data-treehouse.com/examples#Setosa&quot;</td></tr><tr><td>4.9</td><td>3.0</td><td>1.4</td><td>0.2</td><td>&quot;https://data-treehouse.com/examples#Setosa2&quot;</td><td>&quot;https://data-treehouse.com/examples#Setosa&quot;</td></tr><tr><td>4.7</td><td>3.2</td><td>1.3</td><td>0.2</td><td>&quot;https://data-treehouse.com/examples#Setosa3&quot;</td><td>&quot;https://data-treehouse.com/examples#Setosa&quot;</td></tr><tr><td>&hellip;</td><td>&hellip;</td><td>&hellip;</td><td>&hellip;</td><td>&hellip;</td><td>&hellip;</td></tr><tr><td>6.2</td><td>3.4</td><td>5.4</td><td>2.3</td><td>&quot;https://data-treehouse.com/examples#Virginica49&quot;</td><td>&quot;https://data-treehouse.com/examples#Virginica&quot;</td></tr><tr><td>5.9</td><td>3.0</td><td>5.1</td><td>1.8</td><td>&quot;https://data-treehouse.com/examples#Virginica50&quot;</td><td>&quot;https://data-treehouse.com/examples#Virginica&quot;</td></tr></tbody></table></div>"
      ],
      "text/plain": [
       "shape: (150, 6)\n",
       "┌──────────────┬─────────────┬──────────────┬─────────────┬────────────────────┬───────────────────┐\n",
       "│ sepal_length ┆ sepal_width ┆ petal_length ┆ petal_width ┆ id                 ┆ type              │\n",
       "│ ---          ┆ ---         ┆ ---          ┆ ---         ┆ ---                ┆ ---               │\n",
       "│ f64          ┆ f64         ┆ f64          ┆ f64         ┆ str                ┆ str               │\n",
       "╞══════════════╪═════════════╪══════════════╪═════════════╪════════════════════╪═══════════════════╡\n",
       "│ 5.1          ┆ 3.5         ┆ 1.4          ┆ 0.2         ┆ https://data-treeh ┆ https://data-tree │\n",
       "│              ┆             ┆              ┆             ┆ ouse.com/examples# ┆ house.com/example │\n",
       "│              ┆             ┆              ┆             ┆ Setosa1            ┆ s#Setosa          │\n",
       "│ 4.9          ┆ 3.0         ┆ 1.4          ┆ 0.2         ┆ https://data-treeh ┆ https://data-tree │\n",
       "│              ┆             ┆              ┆             ┆ ouse.com/examples# ┆ house.com/example │\n",
       "│              ┆             ┆              ┆             ┆ Setosa2            ┆ s#Setosa          │\n",
       "│ 4.7          ┆ 3.2         ┆ 1.3          ┆ 0.2         ┆ https://data-treeh ┆ https://data-tree │\n",
       "│              ┆             ┆              ┆             ┆ ouse.com/examples# ┆ house.com/example │\n",
       "│              ┆             ┆              ┆             ┆ Setosa3            ┆ s#Setosa          │\n",
       "│ …            ┆ …           ┆ …            ┆ …           ┆ …                  ┆ …                 │\n",
       "│ 6.2          ┆ 3.4         ┆ 5.4          ┆ 2.3         ┆ https://data-treeh ┆ https://data-tree │\n",
       "│              ┆             ┆              ┆             ┆ ouse.com/examples# ┆ house.com/example │\n",
       "│              ┆             ┆              ┆             ┆ Virginica49        ┆ s#Virginica       │\n",
       "│ 5.9          ┆ 3.0         ┆ 5.1          ┆ 1.8         ┆ https://data-treeh ┆ https://data-tree │\n",
       "│              ┆             ┆              ┆             ┆ ouse.com/examples# ┆ house.com/example │\n",
       "│              ┆             ┆              ┆             ┆ Virginica50        ┆ s#Virginica       │\n",
       "└──────────────┴─────────────┴──────────────┴─────────────┴────────────────────┴───────────────────┘"
      ]
     },
     "execution_count": 5,
     "metadata": {},
     "output_type": "execute_result"
    }
   ],
   "source": [
    "df_instances = df.drop(\"variety\")\n",
    "df_instances"
   ]
  },
  {
   "cell_type": "code",
   "execution_count": 6,
   "id": "abd122c9-667c-4f88-83e1-d723c975dbcb",
   "metadata": {},
   "outputs": [
    {
     "data": {
      "text/html": [
       "<div><style>\n",
       ".dataframe > thead > tr,\n",
       ".dataframe > tbody > tr {\n",
       "  text-align: right;\n",
       "  white-space: pre-wrap;\n",
       "}\n",
       "</style>\n",
       "<small>shape: (3, 2)</small><table border=\"1\" class=\"dataframe\"><thead><tr><th>type</th><th>variety</th></tr><tr><td>str</td><td>str</td></tr></thead><tbody><tr><td>&quot;https://data-treehouse.com/examples#Versicolor&quot;</td><td>&quot;Versicolor&quot;</td></tr><tr><td>&quot;https://data-treehouse.com/examples#Setosa&quot;</td><td>&quot;Setosa&quot;</td></tr><tr><td>&quot;https://data-treehouse.com/examples#Virginica&quot;</td><td>&quot;Virginica&quot;</td></tr></tbody></table></div>"
      ],
      "text/plain": [
       "shape: (3, 2)\n",
       "┌────────────────────────────────────────────────┬────────────┐\n",
       "│ type                                           ┆ variety    │\n",
       "│ ---                                            ┆ ---        │\n",
       "│ str                                            ┆ str        │\n",
       "╞════════════════════════════════════════════════╪════════════╡\n",
       "│ https://data-treehouse.com/examples#Versicolor ┆ Versicolor │\n",
       "│ https://data-treehouse.com/examples#Setosa     ┆ Setosa     │\n",
       "│ https://data-treehouse.com/examples#Virginica  ┆ Virginica  │\n",
       "└────────────────────────────────────────────────┴────────────┘"
      ]
     },
     "execution_count": 6,
     "metadata": {},
     "output_type": "execute_result"
    }
   ],
   "source": [
    "df_types = df.select(\"type\", \"variety\").unique()\n",
    "df_types"
   ]
  },
  {
   "cell_type": "markdown",
   "id": "cfdb42dd-8394-4473-b533-00be78657e04",
   "metadata": {},
   "source": [
    "## Mapping using stOTTR syntax"
   ]
  },
  {
   "cell_type": "markdown",
   "id": "28bbc980-dd69-44d7-8abc-0ab14f154c80",
   "metadata": {},
   "source": [
    "We first use the `expand_default` method to get a starting point for our template. "
   ]
  },
  {
   "cell_type": "code",
   "execution_count": 7,
   "id": "4fe8a0fd-a214-444a-9f6c-1e95d0e3a7f2",
   "metadata": {
    "scrolled": true
   },
   "outputs": [
    {
     "name": "stdout",
     "output_type": "stream",
     "text": [
      "<urn:maplib_default:default_template_0> [\n",
      "     <http://www.w3.org/2001/XMLSchema#double> ?sepal_length, \n",
      "     <http://www.w3.org/2001/XMLSchema#double> ?sepal_width, \n",
      "     <http://www.w3.org/2001/XMLSchema#double> ?petal_length, \n",
      "     <http://www.w3.org/2001/XMLSchema#double> ?petal_width, \n",
      "     <http://ns.ottr.xyz/0.4/IRI> ?id, \n",
      "     <http://ns.ottr.xyz/0.4/IRI> ?type ] :: {\n",
      "  ottr:Triple(?id, <urn:maplib_default:sepal_length>, ?sepal_length) ,\n",
      "  ottr:Triple(?id, <urn:maplib_default:sepal_width>, ?sepal_width) ,\n",
      "  ottr:Triple(?id, <urn:maplib_default:petal_length>, ?petal_length) ,\n",
      "  ottr:Triple(?id, <urn:maplib_default:petal_width>, ?petal_width) ,\n",
      "  ottr:Triple(?id, <urn:maplib_default:type>, ?type)\n",
      "} . \n",
      "\n"
     ]
    }
   ],
   "source": [
    "m_def = Mapping()\n",
    "tpl_def_inst = m_def.expand_default(df_instances, \"id\")\n",
    "print(tpl_def_inst)"
   ]
  },
  {
   "cell_type": "code",
   "execution_count": 8,
   "id": "45411ff0-b464-480c-9686-74d835ec403a",
   "metadata": {},
   "outputs": [
    {
     "name": "stdout",
     "output_type": "stream",
     "text": [
      "<urn:maplib_default:default_template_1> [\n",
      "     <http://ns.ottr.xyz/0.4/IRI> ?type, \n",
      "     <http://www.w3.org/2001/XMLSchema#string> ?variety ] :: {\n",
      "  ottr:Triple(?type, <urn:maplib_default:variety>, ?variety)\n",
      "} . \n",
      "\n"
     ]
    }
   ],
   "source": [
    "tpl_def_type = m_def.expand_default(df_types, \"type\")\n",
    "print(tpl_def_type)"
   ]
  },
  {
   "cell_type": "markdown",
   "id": "db298e85-4dab-4dec-8315-3220447a1288",
   "metadata": {},
   "source": [
    "We run a query to check what was just added, but the default predicate names can be improved. \n",
    "\n",
    "Note that the data types have been inferred from the column types and contents. "
   ]
  },
  {
   "cell_type": "code",
   "execution_count": 9,
   "id": "50f7f2f2-cded-4d12-a9f5-54ce24cbb79b",
   "metadata": {},
   "outputs": [
    {
     "data": {
      "text/html": [
       "<div><style>\n",
       ".dataframe > thead > tr,\n",
       ".dataframe > tbody > tr {\n",
       "  text-align: right;\n",
       "  white-space: pre-wrap;\n",
       "}\n",
       "</style>\n",
       "<small>shape: (753, 3)</small><table border=\"1\" class=\"dataframe\"><thead><tr><th>a</th><th>b</th><th>c</th></tr><tr><td>str</td><td>str</td><td>str</td></tr></thead><tbody><tr><td>&quot;&lt;https://data-treehouse.com/examples#Setosa1&gt;&quot;</td><td>&quot;&lt;urn:maplib_default:petal_width&gt;&quot;</td><td>&quot;&quot;0.2&quot;^^&lt;http://www.w3.org/2001/XMLSchema#double&gt;&quot;</td></tr><tr><td>&quot;&lt;https://data-treehouse.com/examples#Setosa10&gt;&quot;</td><td>&quot;&lt;urn:maplib_default:petal_width&gt;&quot;</td><td>&quot;&quot;0.1&quot;^^&lt;http://www.w3.org/2001/XMLSchema#double&gt;&quot;</td></tr><tr><td>&quot;&lt;https://data-treehouse.com/examples#Setosa11&gt;&quot;</td><td>&quot;&lt;urn:maplib_default:petal_width&gt;&quot;</td><td>&quot;&quot;0.2&quot;^^&lt;http://www.w3.org/2001/XMLSchema#double&gt;&quot;</td></tr><tr><td>&hellip;</td><td>&hellip;</td><td>&hellip;</td></tr><tr><td>&quot;&lt;https://data-treehouse.com/examples#Virginica8&gt;&quot;</td><td>&quot;&lt;urn:maplib_default:sepal_length&gt;&quot;</td><td>&quot;&quot;7.3&quot;^^&lt;http://www.w3.org/2001/XMLSchema#double&gt;&quot;</td></tr><tr><td>&quot;&lt;https://data-treehouse.com/examples#Virginica9&gt;&quot;</td><td>&quot;&lt;urn:maplib_default:sepal_length&gt;&quot;</td><td>&quot;&quot;6.7&quot;^^&lt;http://www.w3.org/2001/XMLSchema#double&gt;&quot;</td></tr></tbody></table></div>"
      ],
      "text/plain": [
       "shape: (753, 3)\n",
       "┌────────────────────────────────┬────────────────────────────────┬────────────────────────────────┐\n",
       "│ a                              ┆ b                              ┆ c                              │\n",
       "│ ---                            ┆ ---                            ┆ ---                            │\n",
       "│ str                            ┆ str                            ┆ str                            │\n",
       "╞════════════════════════════════╪════════════════════════════════╪════════════════════════════════╡\n",
       "│ <https://data-treehouse.com/ex ┆ <urn:maplib_default:petal_widt ┆ \"0.2\"^^<http://www.w3.org/2001 │\n",
       "│ amples#Setosa1>                ┆ h>                             ┆ /XMLSchema#double>             │\n",
       "│ <https://data-treehouse.com/ex ┆ <urn:maplib_default:petal_widt ┆ \"0.1\"^^<http://www.w3.org/2001 │\n",
       "│ amples#Setosa10>               ┆ h>                             ┆ /XMLSchema#double>             │\n",
       "│ <https://data-treehouse.com/ex ┆ <urn:maplib_default:petal_widt ┆ \"0.2\"^^<http://www.w3.org/2001 │\n",
       "│ amples#Setosa11>               ┆ h>                             ┆ /XMLSchema#double>             │\n",
       "│ …                              ┆ …                              ┆ …                              │\n",
       "│ <https://data-treehouse.com/ex ┆ <urn:maplib_default:sepal_leng ┆ \"7.3\"^^<http://www.w3.org/2001 │\n",
       "│ amples#Virginica8>             ┆ th>                            ┆ /XMLSchema#double>             │\n",
       "│ <https://data-treehouse.com/ex ┆ <urn:maplib_default:sepal_leng ┆ \"6.7\"^^<http://www.w3.org/2001 │\n",
       "│ amples#Virginica9>             ┆ th>                            ┆ /XMLSchema#double>             │\n",
       "└────────────────────────────────┴────────────────────────────────┴────────────────────────────────┘"
      ]
     },
     "execution_count": 9,
     "metadata": {},
     "output_type": "execute_result"
    }
   ],
   "source": [
    "m_def.query(\"\"\"\n",
    "SELECT ?a ?b ?c WHERE {\n",
    "    ?a ?b ?c .\n",
    "}\n",
    "\"\"\")"
   ]
  },
  {
   "cell_type": "markdown",
   "id": "6b2b4f76-42b6-4418-93b1-180a103bb896",
   "metadata": {},
   "source": [
    "Using these defaults as a starting point, we create the following templates.\n",
    "The stOTTR syntax is specified [here](https://spec.ottr.xyz/stOTTR/0.1.4/)"
   ]
  },
  {
   "cell_type": "code",
   "execution_count": 10,
   "id": "03e867fb-b75b-448a-9d57-3583ded5f205",
   "metadata": {},
   "outputs": [],
   "source": [
    "tpls = \"\"\"\n",
    "@prefix ex:   <https://data-treehouse.com/examples#> .\n",
    "@prefix rdfs: <http://www.w3.org/2000/01/rdf-schema#> .\n",
    "\n",
    "ex:InstanceTemplate [\n",
    "     <http://www.w3.org/2001/XMLSchema#double> ?sepal_length, \n",
    "     <http://www.w3.org/2001/XMLSchema#double> ?sepal_width, \n",
    "     <http://www.w3.org/2001/XMLSchema#double> ?petal_length, \n",
    "     <http://www.w3.org/2001/XMLSchema#double> ?petal_width, \n",
    "     <http://ns.ottr.xyz/0.4/IRI> ?id, \n",
    "     <http://ns.ottr.xyz/0.4/IRI> ?type ] :: {\n",
    "  ottr:Triple(?id, ex:sepalLength, ?sepal_length) ,\n",
    "  ottr:Triple(?id, ex:sepalWidth, ?sepal_width) ,\n",
    "  ottr:Triple(?id, ex:petalLength, ?petal_length) ,\n",
    "  ottr:Triple(?id, ex:petalWidth, ?petal_width) ,\n",
    "  ottr:Triple(?id, a, ?type)\n",
    "} . \n",
    "\n",
    "ex:TypeTemplate [\n",
    "     <http://ns.ottr.xyz/0.4/IRI> ?type, \n",
    "     <http://www.w3.org/2001/XMLSchema#string> ?variety ] :: {\n",
    "  ottr:Triple(?type, rdfs:label, ?variety),\n",
    "  ottr:Triple(?type, a, rdfs:Class)\n",
    "} . \n",
    "\n",
    "\"\"\""
   ]
  },
  {
   "cell_type": "code",
   "execution_count": 11,
   "id": "b941c85c-2e7b-4b4a-85a4-343c175f926e",
   "metadata": {},
   "outputs": [
    {
     "data": {
      "text/html": [
       "<div><style>\n",
       ".dataframe > thead > tr,\n",
       ".dataframe > tbody > tr {\n",
       "  text-align: right;\n",
       "  white-space: pre-wrap;\n",
       "}\n",
       "</style>\n",
       "<small>shape: (150, 4)</small><table border=\"1\" class=\"dataframe\"><thead><tr><th>id</th><th>sepal_length</th><th>sepal_width</th><th>type_label</th></tr><tr><td>str</td><td>f64</td><td>f64</td><td>str</td></tr></thead><tbody><tr><td>&quot;&lt;https://data-treehouse.com/examples#Setosa1&gt;&quot;</td><td>5.1</td><td>3.5</td><td>&quot;Setosa&quot;</td></tr><tr><td>&quot;&lt;https://data-treehouse.com/examples#Setosa10&gt;&quot;</td><td>4.9</td><td>3.1</td><td>&quot;Setosa&quot;</td></tr><tr><td>&quot;&lt;https://data-treehouse.com/examples#Setosa11&gt;&quot;</td><td>5.4</td><td>3.7</td><td>&quot;Setosa&quot;</td></tr><tr><td>&hellip;</td><td>&hellip;</td><td>&hellip;</td><td>&hellip;</td></tr><tr><td>&quot;&lt;https://data-treehouse.com/examples#Virginica8&gt;&quot;</td><td>7.3</td><td>2.9</td><td>&quot;Virginica&quot;</td></tr><tr><td>&quot;&lt;https://data-treehouse.com/examples#Virginica9&gt;&quot;</td><td>6.7</td><td>2.5</td><td>&quot;Virginica&quot;</td></tr></tbody></table></div>"
      ],
      "text/plain": [
       "shape: (150, 4)\n",
       "┌──────────────────────────────────────────────────┬──────────────┬─────────────┬────────────┐\n",
       "│ id                                               ┆ sepal_length ┆ sepal_width ┆ type_label │\n",
       "│ ---                                              ┆ ---          ┆ ---         ┆ ---        │\n",
       "│ str                                              ┆ f64          ┆ f64         ┆ str        │\n",
       "╞══════════════════════════════════════════════════╪══════════════╪═════════════╪════════════╡\n",
       "│ <https://data-treehouse.com/examples#Setosa1>    ┆ 5.1          ┆ 3.5         ┆ Setosa     │\n",
       "│ <https://data-treehouse.com/examples#Setosa10>   ┆ 4.9          ┆ 3.1         ┆ Setosa     │\n",
       "│ <https://data-treehouse.com/examples#Setosa11>   ┆ 5.4          ┆ 3.7         ┆ Setosa     │\n",
       "│ …                                                ┆ …            ┆ …           ┆ …          │\n",
       "│ <https://data-treehouse.com/examples#Virginica8> ┆ 7.3          ┆ 2.9         ┆ Virginica  │\n",
       "│ <https://data-treehouse.com/examples#Virginica9> ┆ 6.7          ┆ 2.5         ┆ Virginica  │\n",
       "└──────────────────────────────────────────────────┴──────────────┴─────────────┴────────────┘"
      ]
     },
     "execution_count": 11,
     "metadata": {},
     "output_type": "execute_result"
    }
   ],
   "source": [
    "m_tpl = Mapping()\n",
    "m_tpl.add_template(tpls)\n",
    "m_tpl.expand(\"https://data-treehouse.com/examples#InstanceTemplate\", df_instances)\n",
    "m_tpl.expand(\"https://data-treehouse.com/examples#TypeTemplate\", df_types)\n",
    "m_tpl.query(\"\"\"\n",
    "PREFIX ex: <https://data-treehouse.com/examples#> \n",
    "PREFIX rdfs: <http://www.w3.org/2000/01/rdf-schema#>\n",
    "SELECT ?id ?sepal_length ?sepal_width ?type_label WHERE {\n",
    "    ?id a ?type .\n",
    "    ?id ex:sepalLength ?sepal_length .\n",
    "    ?id ex:sepalWidth ?sepal_width .\n",
    "    ?type rdfs:label ?type_label .    \n",
    "}\n",
    "\"\"\")"
   ]
  },
  {
   "cell_type": "markdown",
   "id": "283c2ae1-78cf-4c78-bab9-e8af47198843",
   "metadata": {},
   "source": [
    "## Mapping with programmatic OTTR"
   ]
  },
  {
   "cell_type": "markdown",
   "id": "af97157b-7892-4dfb-80a3-da84507c1888",
   "metadata": {},
   "source": [
    "To make use of programmatic OTTR, we need some imports"
   ]
  },
  {
   "cell_type": "code",
   "execution_count": 12,
   "id": "15f807b1-477e-4ac1-93b3-13c0e446a864",
   "metadata": {},
   "outputs": [],
   "source": [
    "from maplib import Template, Triple, XSD, Parameter, Variable, RDFType, Prefix, a"
   ]
  },
  {
   "cell_type": "code",
   "execution_count": 13,
   "id": "289b4f66-6eee-4444-87ae-e9e2d1be6bb3",
   "metadata": {},
   "outputs": [
    {
     "data": {
      "text/plain": [
       "<https://data-treehouse.com/examples#InstanceTemplate> [\n",
       "     <http://ns.ottr.xyz/0.4/IRI> ?id, \n",
       "     <http://www.w3.org/2001/XMLSchema#double> ?sepal_length, \n",
       "     <http://www.w3.org/2001/XMLSchema#double> ?sepal_width, \n",
       "     <http://www.w3.org/2001/XMLSchema#double> ?petal_length, \n",
       "     <http://www.w3.org/2001/XMLSchema#double> ?petal_width, \n",
       "     <http://ns.ottr.xyz/0.4/IRI> ?type ] :: {\n",
       "  <http://ns.ottr.xyz/0.4/Triple>(?id, <https://data-treehouse.com/examples#sepalLength>, ?sepal_length) ,\n",
       "  <http://ns.ottr.xyz/0.4/Triple>(?id, <https://data-treehouse.com/examples#sepalWidth>, ?sepal_width) ,\n",
       "  <http://ns.ottr.xyz/0.4/Triple>(?id, <https://data-treehouse.com/examples#petalLength>, ?petal_length) ,\n",
       "  <http://ns.ottr.xyz/0.4/Triple>(?id, <https://data-treehouse.com/examples#petalWidth>, ?petal_width) ,\n",
       "  <http://ns.ottr.xyz/0.4/Triple>(?id, <http://www.w3.org/1999/02/22-rdf-syntax-ns#type>, ?type)\n",
       "} . "
      ]
     },
     "execution_count": 13,
     "metadata": {},
     "output_type": "execute_result"
    }
   ],
   "source": [
    "xsd = XSD()\n",
    "id_var = Variable(\"id\")\n",
    "sepal_length_var = Variable(\"sepal_length\")\n",
    "sepal_width_var = Variable(\"sepal_width\")\n",
    "petal_length_var = Variable(\"petal_length\")\n",
    "petal_width_var = Variable(\"petal_width\")\n",
    "type_var = Variable(\"type\")\n",
    "my_prefix = Prefix(MY_PREFIX)\n",
    "\n",
    "instance_template = Template(\n",
    "    iri=my_prefix.suf(\"InstanceTemplate\"),\n",
    "    parameters= [\n",
    "        Parameter(id_var, rdf_type=RDFType.IRI()),\n",
    "        Parameter(sepal_length_var, rdf_type=RDFType.Literal(xsd.double)),\n",
    "        Parameter(sepal_width_var, rdf_type=RDFType.Literal(xsd.double)),\n",
    "        Parameter(petal_length_var, rdf_type=RDFType.Literal(xsd.double)),\n",
    "        Parameter(petal_width_var, rdf_type=RDFType.Literal(xsd.double)),\n",
    "        Parameter(type_var, rdf_type=RDFType.IRI())\n",
    "    ],\n",
    "    instances=[\n",
    "        Triple(id_var, my_prefix.suf(\"sepalLength\"), sepal_length_var),\n",
    "        Triple(id_var, my_prefix.suf(\"sepalWidth\"), sepal_width_var),\n",
    "        Triple(id_var, my_prefix.suf(\"petalLength\"), petal_length_var),\n",
    "        Triple(id_var, my_prefix.suf(\"petalWidth\"), petal_width_var),\n",
    "        Triple(id_var, a(), type_var),\n",
    "    ]\n",
    ")\n",
    "instance_template"
   ]
  },
  {
   "cell_type": "markdown",
   "id": "0ad8466f-ba20-478c-afe9-411962037ba7",
   "metadata": {},
   "source": [
    "The above template looks pretty similar to what we created earlier in text form.\n",
    "Now we create the types template. "
   ]
  },
  {
   "cell_type": "code",
   "execution_count": 14,
   "id": "9dcc3642-bf20-4e1d-939a-afd835ac91c9",
   "metadata": {},
   "outputs": [
    {
     "data": {
      "text/plain": [
       "<https://data-treehouse.com/examples#TypeTemplate> [\n",
       "     <http://ns.ottr.xyz/0.4/IRI> ?type, \n",
       "     <http://www.w3.org/2001/XMLSchema#string> ?variety ] :: {\n",
       "  <http://ns.ottr.xyz/0.4/Triple>(?type, <http://www.w3.org/1999/02/22-rdf-syntax-ns#type>, <http://www.w3.org/2000/01/rdf-schema#Class>) ,\n",
       "  <http://ns.ottr.xyz/0.4/Triple>(?type, <http://www.w3.org/2000/01/rdf-schema#label>, ?variety)\n",
       "} . "
      ]
     },
     "execution_count": 14,
     "metadata": {},
     "output_type": "execute_result"
    }
   ],
   "source": [
    "variety_var = Variable(\"variety\")\n",
    "rdfs = Prefix(\"http://www.w3.org/2000/01/rdf-schema#\")\n",
    "\n",
    "type_template = Template(\n",
    "    iri=my_prefix.suf(\"TypeTemplate\"),\n",
    "    parameters= [\n",
    "        Parameter(type_var, rdf_type=RDFType.IRI()),\n",
    "        Parameter(variety_var, rdf_type=RDFType.Literal(xsd.string)),\n",
    "    ],\n",
    "    instances=[\n",
    "        Triple(type_var, a(), rdfs.suf(\"Class\")),\n",
    "        Triple(type_var, rdfs.suf(\"label\"), variety_var),\n",
    "        \n",
    "    ]\n",
    ")\n",
    "type_template"
   ]
  },
  {
   "cell_type": "code",
   "execution_count": 15,
   "id": "359b4720-9723-48b1-a623-7603dbabc2e0",
   "metadata": {},
   "outputs": [
    {
     "data": {
      "text/html": [
       "<div><style>\n",
       ".dataframe > thead > tr,\n",
       ".dataframe > tbody > tr {\n",
       "  text-align: right;\n",
       "  white-space: pre-wrap;\n",
       "}\n",
       "</style>\n",
       "<small>shape: (150, 4)</small><table border=\"1\" class=\"dataframe\"><thead><tr><th>id</th><th>sepal_length</th><th>sepal_width</th><th>type_label</th></tr><tr><td>str</td><td>f64</td><td>f64</td><td>str</td></tr></thead><tbody><tr><td>&quot;&lt;https://data-treehouse.com/examples#Setosa1&gt;&quot;</td><td>5.1</td><td>3.5</td><td>&quot;Setosa&quot;</td></tr><tr><td>&quot;&lt;https://data-treehouse.com/examples#Setosa10&gt;&quot;</td><td>4.9</td><td>3.1</td><td>&quot;Setosa&quot;</td></tr><tr><td>&quot;&lt;https://data-treehouse.com/examples#Setosa11&gt;&quot;</td><td>5.4</td><td>3.7</td><td>&quot;Setosa&quot;</td></tr><tr><td>&hellip;</td><td>&hellip;</td><td>&hellip;</td><td>&hellip;</td></tr><tr><td>&quot;&lt;https://data-treehouse.com/examples#Virginica8&gt;&quot;</td><td>7.3</td><td>2.9</td><td>&quot;Virginica&quot;</td></tr><tr><td>&quot;&lt;https://data-treehouse.com/examples#Virginica9&gt;&quot;</td><td>6.7</td><td>2.5</td><td>&quot;Virginica&quot;</td></tr></tbody></table></div>"
      ],
      "text/plain": [
       "shape: (150, 4)\n",
       "┌──────────────────────────────────────────────────┬──────────────┬─────────────┬────────────┐\n",
       "│ id                                               ┆ sepal_length ┆ sepal_width ┆ type_label │\n",
       "│ ---                                              ┆ ---          ┆ ---         ┆ ---        │\n",
       "│ str                                              ┆ f64          ┆ f64         ┆ str        │\n",
       "╞══════════════════════════════════════════════════╪══════════════╪═════════════╪════════════╡\n",
       "│ <https://data-treehouse.com/examples#Setosa1>    ┆ 5.1          ┆ 3.5         ┆ Setosa     │\n",
       "│ <https://data-treehouse.com/examples#Setosa10>   ┆ 4.9          ┆ 3.1         ┆ Setosa     │\n",
       "│ <https://data-treehouse.com/examples#Setosa11>   ┆ 5.4          ┆ 3.7         ┆ Setosa     │\n",
       "│ …                                                ┆ …            ┆ …           ┆ …          │\n",
       "│ <https://data-treehouse.com/examples#Virginica8> ┆ 7.3          ┆ 2.9         ┆ Virginica  │\n",
       "│ <https://data-treehouse.com/examples#Virginica9> ┆ 6.7          ┆ 2.5         ┆ Virginica  │\n",
       "└──────────────────────────────────────────────────┴──────────────┴─────────────┴────────────┘"
      ]
     },
     "execution_count": 15,
     "metadata": {},
     "output_type": "execute_result"
    }
   ],
   "source": [
    "m_prg = Mapping()\n",
    "m_prg.expand(instance_template, df_instances)\n",
    "m_tpl.expand(type_template, df_types)\n",
    "\n",
    "m_tpl.query(\"\"\"\n",
    "PREFIX ex: <https://data-treehouse.com/examples#> \n",
    "PREFIX rdfs: <http://www.w3.org/2000/01/rdf-schema#>\n",
    "SELECT ?id ?sepal_length ?sepal_width ?type_label WHERE {\n",
    "    ?id a ?type .\n",
    "    ?id ex:sepalLength ?sepal_length .\n",
    "    ?id ex:sepalWidth ?sepal_width .\n",
    "    ?type rdfs:label ?type_label .    \n",
    "}\n",
    "\"\"\")"
   ]
  },
  {
   "cell_type": "markdown",
   "id": "1785a0d9-3565-4e0a-80fe-e70d8dbf2f24",
   "metadata": {},
   "source": [
    "## Mapping with PVALUES"
   ]
  },
  {
   "cell_type": "markdown",
   "id": "3bcdc4d2-bfa9-4e11-bf02-46c3a4af2acf",
   "metadata": {},
   "source": [
    "The PVALUES construction allows us to include solution mappings based on a DataFrame."
   ]
  },
  {
   "cell_type": "code",
   "execution_count": 16,
   "id": "21fea6ea-c5ce-4cac-83e5-4b724dc34920",
   "metadata": {},
   "outputs": [
    {
     "data": {
      "text/html": [
       "<div><style>\n",
       ".dataframe > thead > tr,\n",
       ".dataframe > tbody > tr {\n",
       "  text-align: right;\n",
       "  white-space: pre-wrap;\n",
       "}\n",
       "</style>\n",
       "<small>shape: (150, 6)</small><table border=\"1\" class=\"dataframe\"><thead><tr><th>id</th><th>petal_length</th><th>petal_width</th><th>sepal_length</th><th>sepal_width</th><th>type</th></tr><tr><td>str</td><td>f64</td><td>f64</td><td>f64</td><td>f64</td><td>str</td></tr></thead><tbody><tr><td>&quot;&lt;https://data-treehouse.com/examples#Setosa1&gt;&quot;</td><td>1.4</td><td>0.2</td><td>5.1</td><td>3.5</td><td>&quot;&lt;https://data-treehouse.com/examples#Setosa&gt;&quot;</td></tr><tr><td>&quot;&lt;https://data-treehouse.com/examples#Setosa2&gt;&quot;</td><td>1.4</td><td>0.2</td><td>4.9</td><td>3.0</td><td>&quot;&lt;https://data-treehouse.com/examples#Setosa&gt;&quot;</td></tr><tr><td>&quot;&lt;https://data-treehouse.com/examples#Setosa3&gt;&quot;</td><td>1.3</td><td>0.2</td><td>4.7</td><td>3.2</td><td>&quot;&lt;https://data-treehouse.com/examples#Setosa&gt;&quot;</td></tr><tr><td>&hellip;</td><td>&hellip;</td><td>&hellip;</td><td>&hellip;</td><td>&hellip;</td><td>&hellip;</td></tr><tr><td>&quot;&lt;https://data-treehouse.com/examples#Virginica49&gt;&quot;</td><td>5.4</td><td>2.3</td><td>6.2</td><td>3.4</td><td>&quot;&lt;https://data-treehouse.com/examples#Virginica&gt;&quot;</td></tr><tr><td>&quot;&lt;https://data-treehouse.com/examples#Virginica50&gt;&quot;</td><td>5.1</td><td>1.8</td><td>5.9</td><td>3.0</td><td>&quot;&lt;https://data-treehouse.com/examples#Virginica&gt;&quot;</td></tr></tbody></table></div>"
      ],
      "text/plain": [
       "shape: (150, 6)\n",
       "┌────────────────────┬──────────────┬─────────────┬──────────────┬─────────────┬───────────────────┐\n",
       "│ id                 ┆ petal_length ┆ petal_width ┆ sepal_length ┆ sepal_width ┆ type              │\n",
       "│ ---                ┆ ---          ┆ ---         ┆ ---          ┆ ---         ┆ ---               │\n",
       "│ str                ┆ f64          ┆ f64         ┆ f64          ┆ f64         ┆ str               │\n",
       "╞════════════════════╪══════════════╪═════════════╪══════════════╪═════════════╪═══════════════════╡\n",
       "│ <https://data-tree ┆ 1.4          ┆ 0.2         ┆ 5.1          ┆ 3.5         ┆ <https://data-tre │\n",
       "│ house.com/examples ┆              ┆             ┆              ┆             ┆ ehouse.com/exampl │\n",
       "│ #Setosa1>          ┆              ┆             ┆              ┆             ┆ es#Setosa>        │\n",
       "│ <https://data-tree ┆ 1.4          ┆ 0.2         ┆ 4.9          ┆ 3.0         ┆ <https://data-tre │\n",
       "│ house.com/examples ┆              ┆             ┆              ┆             ┆ ehouse.com/exampl │\n",
       "│ #Setosa2>          ┆              ┆             ┆              ┆             ┆ es#Setosa>        │\n",
       "│ <https://data-tree ┆ 1.3          ┆ 0.2         ┆ 4.7          ┆ 3.2         ┆ <https://data-tre │\n",
       "│ house.com/examples ┆              ┆             ┆              ┆             ┆ ehouse.com/exampl │\n",
       "│ #Setosa3>          ┆              ┆             ┆              ┆             ┆ es#Setosa>        │\n",
       "│ …                  ┆ …            ┆ …           ┆ …            ┆ …           ┆ …                 │\n",
       "│ <https://data-tree ┆ 5.4          ┆ 2.3         ┆ 6.2          ┆ 3.4         ┆ <https://data-tre │\n",
       "│ house.com/examples ┆              ┆             ┆              ┆             ┆ ehouse.com/exampl │\n",
       "│ #Virginica49>      ┆              ┆             ┆              ┆             ┆ es#Virginica>     │\n",
       "│ <https://data-tree ┆ 5.1          ┆ 1.8         ┆ 5.9          ┆ 3.0         ┆ <https://data-tre │\n",
       "│ house.com/examples ┆              ┆             ┆              ┆             ┆ ehouse.com/exampl │\n",
       "│ #Virginica50>      ┆              ┆             ┆              ┆             ┆ es#Virginica>     │\n",
       "└────────────────────┴──────────────┴─────────────┴──────────────┴─────────────┴───────────────────┘"
      ]
     },
     "execution_count": 16,
     "metadata": {},
     "output_type": "execute_result"
    }
   ],
   "source": [
    "m_pv = Mapping()\n",
    "\n",
    "df_instances_coltypes = {\n",
    "    \"id\": RDFType.IRI(),\n",
    "    \"sepal_length\": RDFType.Literal(xsd.double),\n",
    "    \"sepal_width\": RDFType.Literal(xsd.double),\n",
    "    \"petal_length\": RDFType.Literal(xsd.double),\n",
    "    \"petal_width\": RDFType.Literal(xsd.double),\n",
    "    \"type\": RDFType.IRI()\n",
    "}\n",
    "\n",
    "m_pv.query(\"\"\"\n",
    "    SELECT * WHERE {\n",
    "    PVALUES (?id ?sepal_length ?sepal_width ?petal_length ?petal_width ?type) df_instances\n",
    "    }\n",
    "    \"\"\",\n",
    "    parameters={\"df_instances\":(df_instances, df_instances_coltypes)}\n",
    ")"
   ]
  },
  {
   "cell_type": "markdown",
   "id": "9b4aa685-3a2c-489b-a1f5-b2dbd028fc3d",
   "metadata": {},
   "source": [
    "We can use insert in combination with PVALUES to do mapping."
   ]
  },
  {
   "cell_type": "code",
   "execution_count": 17,
   "id": "4d67aee0-529f-45ef-a5c8-168d0d855373",
   "metadata": {},
   "outputs": [
    {
     "data": {
      "text/plain": [
       "{}"
      ]
     },
     "execution_count": 17,
     "metadata": {},
     "output_type": "execute_result"
    }
   ],
   "source": [
    "#This is a bit of a dirty trick, we are fixing it :-)\n",
    "m_pv.insert(\"\"\"\n",
    "    PREFIX ex: <https://data-treehouse.com/examples#> \n",
    "    PREFIX rdfs: <http://www.w3.org/2000/01/rdf-schema#>\n",
    "    CONSTRUCT {\n",
    "        ?id ex:sepalLength ?sepal_length .\n",
    "        ?id ex:sepalWidth ?sepal_width .\n",
    "        ?id ex:petalLength ?petal_length .\n",
    "        ?id ex:petalWidth ?petal_width .\n",
    "        ?id a ?type .\n",
    "    } WHERE {\n",
    "    PVALUES (?id ?sepal_length ?sepal_width ?petal_length ?petal_width ?type) df_instances\n",
    "    }\n",
    "    \"\"\",\n",
    "    parameters={\"df_instances\":(df_instances, df_instances_coltypes)}\n",
    ")"
   ]
  },
  {
   "cell_type": "code",
   "execution_count": 18,
   "id": "910002d8-b987-4ee2-95fa-d47be5de291d",
   "metadata": {},
   "outputs": [
    {
     "data": {
      "text/plain": [
       "{}"
      ]
     },
     "execution_count": 18,
     "metadata": {},
     "output_type": "execute_result"
    }
   ],
   "source": [
    "df_types_coltypes = {\n",
    "    \"type\": RDFType.IRI(),\n",
    "    \"variety\": RDFType.Literal(xsd.string),\n",
    "}\n",
    "\n",
    "m_pv.insert(\"\"\"\n",
    "    PREFIX ex: <https://data-treehouse.com/examples#> \n",
    "    PREFIX rdfs: <http://www.w3.org/2000/01/rdf-schema#>\n",
    "    CONSTRUCT {\n",
    "        ?type a rdfs:Class .\n",
    "        ?type rdfs:label ?variety .\n",
    "    } WHERE {\n",
    "    PVALUES (?type ?variety) df_types\n",
    "    }\n",
    "    \"\"\",\n",
    "    parameters={\"df_types\":(df_types, df_types_coltypes)}\n",
    ")"
   ]
  },
  {
   "cell_type": "markdown",
   "id": "5bdac614-5756-4b2a-9fd3-1d41658bfffe",
   "metadata": {},
   "source": [
    "The results are the same "
   ]
  },
  {
   "cell_type": "code",
   "execution_count": 19,
   "id": "636974c6-00ac-4e33-9f03-ac490dec90ed",
   "metadata": {},
   "outputs": [
    {
     "data": {
      "text/html": [
       "<div><style>\n",
       ".dataframe > thead > tr,\n",
       ".dataframe > tbody > tr {\n",
       "  text-align: right;\n",
       "  white-space: pre-wrap;\n",
       "}\n",
       "</style>\n",
       "<small>shape: (150, 4)</small><table border=\"1\" class=\"dataframe\"><thead><tr><th>id</th><th>sepal_length</th><th>sepal_width</th><th>type_label</th></tr><tr><td>str</td><td>f64</td><td>f64</td><td>str</td></tr></thead><tbody><tr><td>&quot;&lt;https://data-treehouse.com/examples#Setosa1&gt;&quot;</td><td>5.1</td><td>3.5</td><td>&quot;Setosa&quot;</td></tr><tr><td>&quot;&lt;https://data-treehouse.com/examples#Setosa10&gt;&quot;</td><td>4.9</td><td>3.1</td><td>&quot;Setosa&quot;</td></tr><tr><td>&quot;&lt;https://data-treehouse.com/examples#Setosa11&gt;&quot;</td><td>5.4</td><td>3.7</td><td>&quot;Setosa&quot;</td></tr><tr><td>&hellip;</td><td>&hellip;</td><td>&hellip;</td><td>&hellip;</td></tr><tr><td>&quot;&lt;https://data-treehouse.com/examples#Virginica8&gt;&quot;</td><td>7.3</td><td>2.9</td><td>&quot;Virginica&quot;</td></tr><tr><td>&quot;&lt;https://data-treehouse.com/examples#Virginica9&gt;&quot;</td><td>6.7</td><td>2.5</td><td>&quot;Virginica&quot;</td></tr></tbody></table></div>"
      ],
      "text/plain": [
       "shape: (150, 4)\n",
       "┌──────────────────────────────────────────────────┬──────────────┬─────────────┬────────────┐\n",
       "│ id                                               ┆ sepal_length ┆ sepal_width ┆ type_label │\n",
       "│ ---                                              ┆ ---          ┆ ---         ┆ ---        │\n",
       "│ str                                              ┆ f64          ┆ f64         ┆ str        │\n",
       "╞══════════════════════════════════════════════════╪══════════════╪═════════════╪════════════╡\n",
       "│ <https://data-treehouse.com/examples#Setosa1>    ┆ 5.1          ┆ 3.5         ┆ Setosa     │\n",
       "│ <https://data-treehouse.com/examples#Setosa10>   ┆ 4.9          ┆ 3.1         ┆ Setosa     │\n",
       "│ <https://data-treehouse.com/examples#Setosa11>   ┆ 5.4          ┆ 3.7         ┆ Setosa     │\n",
       "│ …                                                ┆ …            ┆ …           ┆ …          │\n",
       "│ <https://data-treehouse.com/examples#Virginica8> ┆ 7.3          ┆ 2.9         ┆ Virginica  │\n",
       "│ <https://data-treehouse.com/examples#Virginica9> ┆ 6.7          ┆ 2.5         ┆ Virginica  │\n",
       "└──────────────────────────────────────────────────┴──────────────┴─────────────┴────────────┘"
      ]
     },
     "execution_count": 19,
     "metadata": {},
     "output_type": "execute_result"
    }
   ],
   "source": [
    "m_pv.query(\"\"\"\n",
    "PREFIX ex: <https://data-treehouse.com/examples#> \n",
    "PREFIX rdfs: <http://www.w3.org/2000/01/rdf-schema#>\n",
    "SELECT ?id ?sepal_length ?sepal_width ?type_label WHERE {\n",
    "    ?id a ?type .\n",
    "    ?id ex:sepalLength ?sepal_length .\n",
    "    ?id ex:sepalWidth ?sepal_width .\n",
    "    ?type rdfs:label ?type_label .    \n",
    "}\n",
    "\"\"\")"
   ]
  }
 ],
 "metadata": {
  "kernelspec": {
   "display_name": "Python 3 (ipykernel)",
   "language": "python",
   "name": "python3"
  },
  "language_info": {
   "codemirror_mode": {
    "name": "ipython",
    "version": 3
   },
   "file_extension": ".py",
   "mimetype": "text/x-python",
   "name": "python",
   "nbconvert_exporter": "python",
   "pygments_lexer": "ipython3",
   "version": "3.12.8"
  }
 },
 "nbformat": 4,
 "nbformat_minor": 5
}
